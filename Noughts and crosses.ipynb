{
 "cells": [
  {
   "cell_type": "code",
   "execution_count": null,
   "metadata": {},
   "outputs": [],
   "source": [
    "# Creating a function that will take a list of numbers and generate a noughts and crosses board from it\n",
    "\n",
    "from IPython.display import clear_output\n",
    "\n",
    "def display_board(board):\n",
    "    empty_row = '   |   |   '\n",
    "    horizontal_line = '-----------'\n",
    "    print(empty_row)\n",
    "    print(' ' + board[6] + ' | ' + board[7] + ' | ' + board[8] + ' ')\n",
    "    print(empty_row)\n",
    "    print(horizontal_line)\n",
    "    print(empty_row)\n",
    "    print(' ' + board[3] + ' | ' + board[4] + ' | ' + board[5] + ' ')\n",
    "    print(empty_row)\n",
    "    print(horizontal_line)\n",
    "    print(empty_row)\n",
    "    print(' ' + board[0] + ' | ' + board[1] + ' | ' + board[2] + ' ')\n",
    "    print(empty_row)"
   ]
  },
  {
   "cell_type": "code",
   "execution_count": null,
   "metadata": {},
   "outputs": [],
   "source": [
    "# testing that\n",
    "test_board = ['X','O','X','O','X','O','X','O','X']\n",
    "display_board(test_board)"
   ]
  },
  {
   "cell_type": "code",
   "execution_count": null,
   "metadata": {},
   "outputs": [],
   "source": [
    "# A function to let 'Player 1' choose whether to be X or O\n",
    "\n",
    "def player_input():\n",
    "    player_selection = input(\"Player 1, choose either 'X' or 'O'\")\n",
    "    while not (player_selection.upper() == 'X' or player_selection.upper() == 'O'):\n",
    "        player_selection = input(\"I said choose either 'X' or 'O' you idiot, try again\")\n",
    "    global player1\n",
    "    global player2\n",
    "    if player_selection.upper() == 'X':\n",
    "        player1 = 'X'\n",
    "        player2 = 'O'\n",
    "        print(\"Player 1 is 'X' and Player 2 is 'O'\")\n",
    "    else:\n",
    "        player2 = 'X'\n",
    "        player1 = 'O'\n",
    "        print(\"Player 1 is 'O' and Player 2 is 'X'\")"
   ]
  },
  {
   "cell_type": "code",
   "execution_count": null,
   "metadata": {},
   "outputs": [],
   "source": [
    "# Testing that function\n",
    "# player_input()"
   ]
  },
  {
   "cell_type": "code",
   "execution_count": null,
   "metadata": {},
   "outputs": [],
   "source": [
    "# A function to take a let a player with a certain 'marker' select a position, and update the board with that selection\n",
    "\n",
    "def place_marker(board, marker, position):\n",
    "    board[position] = marker"
   ]
  },
  {
   "cell_type": "code",
   "execution_count": null,
   "metadata": {},
   "outputs": [],
   "source": [
    "# Testing that function - note there are no restrictions on what the marker can be\n",
    "# place_marker(test_board,'$',8)\n",
    "# display_board(test_board)"
   ]
  },
  {
   "cell_type": "code",
   "execution_count": null,
   "metadata": {},
   "outputs": [],
   "source": [
    "# A function to see if a certain player with a certain 'marker' has won\n",
    "\n",
    "def win_check(board, marker):\n",
    "    if ((board[0] == board[1] == board[2] == marker) or # across the bottom\n",
    "    (board[3] == board[4] == board[5] == marker) or # across the middle\n",
    "    (board[6] == board[7] == board[8] == marker) or # across the top\n",
    "    (board[0] == board[3] == board[6] == marker) or # up the left\n",
    "    (board[1] == board[4] == board[7] == marker) or # up the middle\n",
    "    (board[2] == board[5] == board[8] == marker) or # up the right\n",
    "    (board[0] == board[4] == board[8] == marker) or # diagonally from bottom left to top right\n",
    "    (board[6] == board[4] == board[0] == marker)) : #diagonally from top left to bottom right\n",
    "        return True\n",
    "    else:\n",
    "        return False"
   ]
  },
  {
   "cell_type": "code",
   "execution_count": null,
   "metadata": {},
   "outputs": [],
   "source": [
    "# Testing that function\n",
    "# test_board = ['X','O','X','O','X','O','X','O','X']\n",
    "# display_board(test_board)\n",
    "# win_check(test_board,'X')"
   ]
  },
  {
   "cell_type": "code",
   "execution_count": null,
   "metadata": {},
   "outputs": [],
   "source": [
    "# A function to randomly pick which player goes first\n",
    "\n",
    "import random\n",
    "\n",
    "def choose_first():\n",
    "    first_player = random.randint(1,2)\n",
    "    return first_player"
   ]
  },
  {
   "cell_type": "code",
   "execution_count": null,
   "metadata": {},
   "outputs": [],
   "source": [
    "# A function to check whether a position is free or not (free is defined as 'not occupied by X or O')\n",
    "\n",
    "def space_check(board, position):\n",
    "    if board[position] == 'X' or board[position] == 'O':\n",
    "        return False\n",
    "    else:\n",
    "        return True"
   ]
  },
  {
   "cell_type": "code",
   "execution_count": null,
   "metadata": {},
   "outputs": [],
   "source": [
    "# Testing that function\n",
    "# test_board = ['X','O','X','O','X','O','X','O','X']\n",
    "# display_board(test_board)\n",
    "# space_check(test_board, 2)"
   ]
  },
  {
   "cell_type": "code",
   "execution_count": null,
   "metadata": {},
   "outputs": [],
   "source": [
    "# A function to check whether the board is full or not\n",
    "\n",
    "def full_board_check(board):\n",
    "    for x in range (0,9):\n",
    "        if space_check(board, x) == True:\n",
    "            return False\n",
    "            break\n",
    "    else:\n",
    "        return True "
   ]
  },
  {
   "cell_type": "code",
   "execution_count": null,
   "metadata": {},
   "outputs": [],
   "source": [
    "# Testing that function\n",
    "# test_board = ['X','O','X','O','X','O','X','O','X']\n",
    "# display_board(test_board)\n",
    "# full_board_check(test_board)"
   ]
  },
  {
   "cell_type": "code",
   "execution_count": null,
   "metadata": {},
   "outputs": [],
   "source": [
    "# Using the space_check function to ask someone to pick a space, but to reject it if it's not free\n",
    "\n",
    "def player_choice(board):\n",
    "    next_position = int(input(\"Pick a position from 1-9 for your next turn\"))-1 # -1 because zero index\n",
    "    while not (space_check(board, next_position)):\n",
    "        next_position = int(input(\"No you idiot, that position is taken, choose another\"))\n",
    "    return next_position"
   ]
  },
  {
   "cell_type": "code",
   "execution_count": null,
   "metadata": {},
   "outputs": [],
   "source": [
    "# Testing that function\n",
    "# test_board = ['X','O','X','O','X','O','X','O','X']\n",
    "# display_board(test_board)\n",
    "# player_choice(test_board)"
   ]
  },
  {
   "cell_type": "code",
   "execution_count": null,
   "metadata": {},
   "outputs": [],
   "source": [
    "# A function to let them decide to play again\n",
    "\n",
    "def replay():\n",
    "    play_again = input(\"Would you like to play again? (Y/N)\")\n",
    "    while not (play_again == 'Y' or play_again == 'N'):\n",
    "        play_again = input(\"Enter 'Y' to play again, or 'N' to end the game\")\n",
    "    if play_again == 'Y':\n",
    "        return True\n",
    "    else:\n",
    "        return False"
   ]
  },
  {
   "cell_type": "code",
   "execution_count": null,
   "metadata": {},
   "outputs": [],
   "source": [
    "# Testing that function"
   ]
  },
  {
   "cell_type": "code",
   "execution_count": null,
   "metadata": {},
   "outputs": [],
   "source": [
    "# Using all of the above to make Noughts and Crosses\n",
    "\n",
    "print('Noughts and crosses game')\n",
    "from IPython.display import clear_output\n",
    "\n",
    "while True:\n",
    "    # Set the game up here\n",
    "    game_board = ['1', '2', '3', '4', '5', '6', '7', '8', '9']\n",
    "    player_input()\n",
    "    current_player = choose_first()\n",
    "    game_on = True\n",
    "\n",
    "    while game_on:\n",
    "        clear_output()\n",
    "        display_board(game_board)\n",
    "        if current_player == 1: \n",
    "            # Player 1 Turn\n",
    "            print('Player 1 it is your turn')\n",
    "            # get input from Player 1, making sure it's a free space and update the game board to include that choice\n",
    "            place_marker(game_board, player1, player_choice(game_board))\n",
    "            # check to see if we should end the game (if there is a winner or if the board is full. If so, set game_on to False, otherwise set current_player to 2)\n",
    "            if win_check(game_board, player1) or full_board_check(game_board):\n",
    "                game_on = False\n",
    "            else:\n",
    "                current_player = 2\n",
    "        else: \n",
    "            # Player 2's turn\n",
    "            print('Player 2 it is your turn')\n",
    "            # get input from Player 2, making sure it's a free space and update the game board to include that choice\n",
    "            place_marker(game_board, player2, player_choice(game_board))          \n",
    "            # check to see if we should end the game (if there is a winner or if the board is full. If so, set game_on to False, otherwise set current_player to 2)\n",
    "            if win_check(game_board, player2) or full_board_check(game_board):\n",
    "                game_on = False\n",
    "            else:\n",
    "                current_player = 1\n",
    "    \n",
    "    # here doing what happens if game_on is false. This happens when someone has won, or when board is full\n",
    "    # check if someone has won, if so, say that they have won\n",
    "    clear_output()\n",
    "    display_board(game_board)\n",
    "    if win_check(game_board, player1):\n",
    "        print('Congratulations Player 1, you have won!')\n",
    "    elif win_check(game_board, player2):\n",
    "        print('Congratulations Player 2, you have won!')\n",
    "    elif full_board_check(game_board):\n",
    "        print('This was a draw!')\n",
    "    else:\n",
    "        print('This shoud not have been possible - something has gone wrong')\n",
    "    # then ask if they want to play again. If so, play again, otherwise stop\n",
    "\n",
    "    if not replay():\n",
    "        break"
   ]
  },
  {
   "cell_type": "code",
   "execution_count": null,
   "metadata": {},
   "outputs": [],
   "source": []
  }
 ],
 "metadata": {
  "kernelspec": {
   "display_name": "Python 3",
   "language": "python",
   "name": "python3"
  },
  "language_info": {
   "codemirror_mode": {
    "name": "ipython",
    "version": 3
   },
   "file_extension": ".py",
   "mimetype": "text/x-python",
   "name": "python",
   "nbconvert_exporter": "python",
   "pygments_lexer": "ipython3",
   "version": "3.7.6"
  }
 },
 "nbformat": 4,
 "nbformat_minor": 4
}
